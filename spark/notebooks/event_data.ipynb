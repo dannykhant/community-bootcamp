{
 "cells": [
  {
   "cell_type": "code",
   "execution_count": 1,
   "id": "c552ef08-24f2-4181-ba6b-ca9cf2b312c6",
   "metadata": {},
   "outputs": [
    {
     "name": "stderr",
     "output_type": "stream",
     "text": [
      "25/06/28 04:20:59 WARN SparkSession: Using an existing Spark session; only runtime SQL configurations will take effect.\n"
     ]
    },
    {
     "name": "stdout",
     "output_type": "stream",
     "text": [
      "+-----------+----------+--------+--------------------+----------+--------------------+-------------------+\n",
      "|    user_id| device_id|referrer|                host|       url|          event_time|         event_date|\n",
      "+-----------+----------+--------+--------------------+----------+--------------------+-------------------+\n",
      "| 1037710827| 532630305|    NULL| www.zachwilson.tech|         /|2021-03-08 17:27:...|2021-03-08 00:00:00|\n",
      "|  925588856| 532630305|    NULL|    www.eczachly.com|         /|2021-05-10 11:26:...|2021-05-10 00:00:00|\n",
      "|-1180485268| 532630305|    NULL|admin.zachwilson....|         /|2021-02-17 16:19:...|2021-02-17 00:00:00|\n",
      "|-1044833855| 532630305|    NULL| www.zachwilson.tech|         /|2021-09-24 15:53:...|2021-09-24 00:00:00|\n",
      "|  747494706| 532630305|    NULL| www.zachwilson.tech|         /|2021-09-26 16:03:...|2021-09-26 00:00:00|\n",
      "|  747494706| 532630305|    NULL|admin.zachwilson....|         /|2021-02-21 16:08:...|2021-02-21 00:00:00|\n",
      "| -824540328| 532630305|    NULL|admin.zachwilson....|         /|2021-09-28 17:23:...|2021-09-28 00:00:00|\n",
      "| -824540328| 532630305|    NULL|    www.eczachly.com|         /|2021-09-29 01:22:...|2021-09-29 00:00:00|\n",
      "| 1833036683| 532630305|    NULL|admin.zachwilson....|         /|2021-01-24 03:15:...|2021-01-24 00:00:00|\n",
      "|-2134824313| 532630305|    NULL|    www.eczachly.com|         /|2021-01-25 00:03:...|2021-01-25 00:00:00|\n",
      "|-1809929467|-906264142|    NULL|admin.zachwilson....|/.git/HEAD|2021-02-22 01:36:...|2021-02-22 00:00:00|\n",
      "| 2002285749|-906264142|    NULL|    www.eczachly.com|         /|2021-02-22 02:25:...|2021-02-22 00:00:00|\n",
      "|-1562965412| 532630305|    NULL| www.zachwilson.tech|         /|2021-01-30 20:46:...|2021-01-30 00:00:00|\n",
      "|-1099860451| 532630305|    NULL|    www.eczachly.com|         /|2021-02-04 23:49:...|2021-02-04 00:00:00|\n",
      "| 1246896869|-906264142|    NULL| www.zachwilson.tech|         /|2021-02-22 02:50:...|2021-02-22 00:00:00|\n",
      "| -629331502|-906264142|    NULL|admin.zachwilson....|/.git/HEAD|2021-02-22 23:51:...|2021-02-22 00:00:00|\n",
      "|-1913422462|-906264142|    NULL|    www.eczachly.com|         /|2021-02-23 00:17:...|2021-02-23 00:00:00|\n",
      "|   50429624| 532630305|    NULL|    www.eczachly.com|         /|2022-12-28 01:38:...|2022-12-28 00:00:00|\n",
      "|  222389292| 532630305|    NULL| www.zachwilson.tech|         /|2022-12-28 05:23:...|2022-12-28 00:00:00|\n",
      "| -779924777| 532630305|    NULL| www.zachwilson.tech|         /|2022-12-28 16:45:...|2022-12-28 00:00:00|\n",
      "+-----------+----------+--------+--------------------+----------+--------------------+-------------------+\n",
      "only showing top 20 rows\n",
      "\n"
     ]
    }
   ],
   "source": [
    "from pyspark.sql import SparkSession\n",
    "from pyspark.sql.functions import expr, col\n",
    "\n",
    "spark = SparkSession.builder.appName(\"app\").getOrCreate() \n",
    "\n",
    "events = spark.read.option(\"header\", \"true\").csv(\"/home/iceberg/data/events.csv\") \\\n",
    "                    .withColumn(\"event_date\", expr(\"date_trunc('day', event_time)\"))\n",
    "\n",
    "events.show()"
   ]
  },
  {
   "cell_type": "code",
   "execution_count": 4,
   "id": "0e2d68e0-7e83-41c1-a9c9-40c13ec62608",
   "metadata": {},
   "outputs": [
    {
     "name": "stdout",
     "output_type": "stream",
     "text": [
      "+-----------+--------------------+-------+------------------+\n",
      "|  device_id|        browser_type|os_type|       device_type|\n",
      "+-----------+--------------------+-------+------------------+\n",
      "|-2147042689|             Firefox| Ubuntu|             Other|\n",
      "|-2146219609|            WhatsApp|  Other|            Spider|\n",
      "|-2145574618|       Chrome Mobile|Android|Generic Smartphone|\n",
      "|-2144707350|Chrome Mobile Web...|Android|  Samsung SM-G988B|\n",
      "|-2143813999|Mobile Safari UI/...|    iOS|            iPhone|\n",
      "|-2142634982|   Chrome Mobile iOS|    iOS|            iPhone|\n",
      "|-2142350383|   Chrome Mobile iOS|    iOS|            iPhone|\n",
      "|-2141256237|   Chrome Mobile iOS|    iOS|            iPhone|\n",
      "|-2138977887|             Firefox|OpenBSD|             Other|\n",
      "|-2136667425|              Chrome|Windows|             Other|\n",
      "|-2136444196|   Chrome Mobile iOS|    iOS|            iPhone|\n",
      "|-2136415223|Chrome Mobile Web...|Android| Samsung SM-A305GT|\n",
      "|-2136251094|             Firefox| Ubuntu|             Other|\n",
      "|-2136057702|           CFNetwork|  Other|        iOS-Device|\n",
      "|-2136012321|Chrome Mobile Web...|Android|          MAR-LX3A|\n",
      "|-2135188814|   Chrome Mobile iOS|    iOS|            iPhone|\n",
      "|-2134830273|   Chrome Mobile iOS|    iOS|            iPhone|\n",
      "|-2132039044|   Chrome Mobile iOS|    iOS|              iPad|\n",
      "|-2130748804|Chrome Mobile Web...|Android|  Samsung SM-G981N|\n",
      "|-2130745225|          Spider_Bot|  Other|             Other|\n",
      "+-----------+--------------------+-------+------------------+\n",
      "only showing top 20 rows\n",
      "\n"
     ]
    }
   ],
   "source": [
    "devices = spark.read.option(\"header\", \"true\").csv(\"/home/iceberg/data/devices.csv\")\n",
    "\n",
    "devices.show()"
   ]
  },
  {
   "cell_type": "code",
   "execution_count": 5,
   "id": "190d5e25-1989-45b7-92d5-3b5494749beb",
   "metadata": {},
   "outputs": [
    {
     "name": "stdout",
     "output_type": "stream",
     "text": [
      "+---------+-----------+--------+--------------------+---+--------------------+-------------------+------------+-------+-----------+\n",
      "|device_id|    user_id|referrer|                host|url|          event_time|         event_date|browser_type|os_type|device_type|\n",
      "+---------+-----------+--------+--------------------+---+--------------------+-------------------+------------+-------+-----------+\n",
      "|532630305| 1037710827|    NULL| www.zachwilson.tech|  /|2021-03-08 17:27:...|2021-03-08 00:00:00|       Other|  Other|      Other|\n",
      "|532630305|  925588856|    NULL|    www.eczachly.com|  /|2021-05-10 11:26:...|2021-05-10 00:00:00|       Other|  Other|      Other|\n",
      "|532630305|-1180485268|    NULL|admin.zachwilson....|  /|2021-02-17 16:19:...|2021-02-17 00:00:00|       Other|  Other|      Other|\n",
      "|532630305|-1044833855|    NULL| www.zachwilson.tech|  /|2021-09-24 15:53:...|2021-09-24 00:00:00|       Other|  Other|      Other|\n",
      "|532630305|  747494706|    NULL| www.zachwilson.tech|  /|2021-09-26 16:03:...|2021-09-26 00:00:00|       Other|  Other|      Other|\n",
      "+---------+-----------+--------+--------------------+---+--------------------+-------------------+------------+-------+-----------+\n",
      "only showing top 5 rows\n",
      "\n"
     ]
    }
   ],
   "source": [
    "df = events.join(devices, on=\"device_id\", how=\"left\")\n",
    "\n",
    "df.show(5)"
   ]
  },
  {
   "cell_type": "code",
   "execution_count": 6,
   "id": "087b7554-1d67-47a5-b103-2e79c4893107",
   "metadata": {},
   "outputs": [
    {
     "name": "stdout",
     "output_type": "stream",
     "text": [
      "+---------+-----------+--------+--------------------+---+--------------------+-------------------+--------------+---------+-----------+\n",
      "|device_id|    user_id|referrer|                host|url|          event_time|         event_date|browser_family|os_family|device_type|\n",
      "+---------+-----------+--------+--------------------+---+--------------------+-------------------+--------------+---------+-----------+\n",
      "|532630305| 1037710827|    NULL| www.zachwilson.tech|  /|2021-03-08 17:27:...|2021-03-08 00:00:00|         Other|    Other|      Other|\n",
      "|532630305|  925588856|    NULL|    www.eczachly.com|  /|2021-05-10 11:26:...|2021-05-10 00:00:00|         Other|    Other|      Other|\n",
      "|532630305|-1180485268|    NULL|admin.zachwilson....|  /|2021-02-17 16:19:...|2021-02-17 00:00:00|         Other|    Other|      Other|\n",
      "|532630305|-1044833855|    NULL| www.zachwilson.tech|  /|2021-09-24 15:53:...|2021-09-24 00:00:00|         Other|    Other|      Other|\n",
      "|532630305|  747494706|    NULL| www.zachwilson.tech|  /|2021-09-26 16:03:...|2021-09-26 00:00:00|         Other|    Other|      Other|\n",
      "+---------+-----------+--------+--------------------+---+--------------------+-------------------+--------------+---------+-----------+\n",
      "only showing top 5 rows\n",
      "\n"
     ]
    }
   ],
   "source": [
    "df = df.withColumnsRenamed({\"browser_type\": \"browser_family\", \"os_type\": \"os_family\"})\n",
    "\n",
    "df.show(5)"
   ]
  },
  {
   "cell_type": "code",
   "execution_count": 7,
   "id": "47e598af-f418-4a52-91b5-12c870e410e4",
   "metadata": {},
   "outputs": [
    {
     "name": "stderr",
     "output_type": "stream",
     "text": [
      "                                                                                "
     ]
    },
    {
     "name": "stdout",
     "output_type": "stream",
     "text": [
      "+----------+-----------+--------+--------------------+--------------------+--------------------+-------------------+--------------+---------+------------------+\n",
      "| device_id|    user_id|referrer|                host|                 url|          event_time|         event_date|browser_family|os_family|       device_type|\n",
      "+----------+-----------+--------+--------------------+--------------------+--------------------+-------------------+--------------+---------+------------------+\n",
      "| 532630305| 1129583063|    NULL|admin.zachwilson....|                   /|2021-01-07 09:21:...|2021-01-07 00:00:00|         Other|    Other|             Other|\n",
      "|1088283544| -648945006|    NULL|    www.eczachly.com|                   /|2021-01-07 02:58:...|2021-01-07 00:00:00|      PetalBot|  Android|Generic Smartphone|\n",
      "|-158310583|-1871780024|    NULL|    www.eczachly.com|                   /|2021-01-07 04:17:...|2021-01-07 00:00:00|      PetalBot|    Other|            Spider|\n",
      "|1088283544|  203689086|    NULL|    www.eczachly.com|/blog/what-exactl...|2021-01-07 10:03:...|2021-01-07 00:00:00|      PetalBot|  Android|Generic Smartphone|\n",
      "| 532630305|-1180485268|    NULL|    www.eczachly.com|                   /|2021-01-07 18:45:...|2021-01-07 00:00:00|         Other|    Other|             Other|\n",
      "+----------+-----------+--------+--------------------+--------------------+--------------------+-------------------+--------------+---------+------------------+\n",
      "only showing top 5 rows\n",
      "\n"
     ]
    },
    {
     "name": "stderr",
     "output_type": "stream",
     "text": [
      "[Stage 13:=============================>                            (2 + 2) / 4]"
     ]
    },
    {
     "name": "stdout",
     "output_type": "stream",
     "text": [
      "+----------+----------+--------+--------------------+-------------+--------------------+-------------------+--------------+---------+-----------+\n",
      "| device_id|   user_id|referrer|                host|          url|          event_time|         event_date|browser_family|os_family|device_type|\n",
      "+----------+----------+--------+--------------------+-------------+--------------------+-------------------+--------------+---------+-----------+\n",
      "|-643696601|1272828233|    NULL|admin.zachwilson....|            /|2021-01-02 13:53:...|2021-01-02 00:00:00|        Chrome|  Windows|      Other|\n",
      "| 532630305| 747494706|    NULL|admin.zachwilson....|            /|2021-01-02 19:36:...|2021-01-02 00:00:00|         Other|    Other|      Other|\n",
      "| 898871897|2110046626|    NULL|admin.zachwilson....|/wp-login.php|2021-01-02 19:57:...|2021-01-02 00:00:00|        Chrome|    Linux|      Other|\n",
      "|-643696601|1272828233|    NULL|admin.zachwilson....|            /|2021-01-02 21:05:...|2021-01-02 00:00:00|        Chrome|  Windows|      Other|\n",
      "|-643696601|1272828233|    NULL|admin.zachwilson....|            /|2021-01-02 21:37:...|2021-01-02 00:00:00|        Chrome|  Windows|      Other|\n",
      "+----------+----------+--------+--------------------+-------------+--------------------+-------------------+--------------+---------+-----------+\n",
      "only showing top 5 rows\n",
      "\n"
     ]
    },
    {
     "name": "stderr",
     "output_type": "stream",
     "text": [
      "                                                                                "
     ]
    }
   ],
   "source": [
    "sorted_df = df.repartition(10, col(\"event_date\")) \\\n",
    "                .sortWithinPartitions(col(\"event_date\"), col(\"host\")) \\\n",
    "                .withColumn(\"event_time\", col(\"event_time\").cast(\"timestamp\"))\n",
    "\n",
    "# global sort\n",
    "sorted_df2 = df.repartition(10, col(\"event_date\")) \\\n",
    "                .sort(col(\"event_date\"), col(\"host\")) \\\n",
    "                .withColumn(\"event_time\", col(\"event_time\").cast(\"timestamp\"))\n",
    "\n",
    "sorted_df.show(5)\n",
    "sorted_df2.show(5)"
   ]
  },
  {
   "cell_type": "code",
   "execution_count": 8,
   "id": "30c10c67-d410-4e9f-8260-8fbabb7cbedd",
   "metadata": {},
   "outputs": [
    {
     "name": "stdout",
     "output_type": "stream",
     "text": [
      "== Physical Plan ==\n",
      "AdaptiveSparkPlan isFinalPlan=false\n",
      "+- Project [device_id#18, user_id#17, referrer#19, host#20, url#21, cast(event_time#22 as timestamp) AS event_time#244, event_date#29, browser_family#181, os_family#182, device_type#93]\n",
      "   +- Sort [event_date#29 ASC NULLS FIRST, host#20 ASC NULLS FIRST], false, 0\n",
      "      +- Exchange hashpartitioning(event_date#29, 10), REPARTITION_BY_NUM, [plan_id=529]\n",
      "         +- Project [device_id#18, user_id#17, referrer#19, host#20, url#21, event_time#22, event_date#29, browser_type#91 AS browser_family#181, os_type#92 AS os_family#182, device_type#93]\n",
      "            +- BroadcastHashJoin [device_id#18], [device_id#90], LeftOuter, BuildRight, false\n",
      "               :- Project [user_id#17, device_id#18, referrer#19, host#20, url#21, event_time#22, date_trunc(day, cast(event_time#22 as timestamp), Some(Etc/UTC)) AS event_date#29]\n",
      "               :  +- FileScan csv [user_id#17,device_id#18,referrer#19,host#20,url#21,event_time#22] Batched: false, DataFilters: [], Format: CSV, Location: InMemoryFileIndex(1 paths)[file:/home/iceberg/data/events.csv], PartitionFilters: [], PushedFilters: [], ReadSchema: struct<user_id:string,device_id:string,referrer:string,host:string,url:string,event_time:string>\n",
      "               +- BroadcastExchange HashedRelationBroadcastMode(List(input[0, string, false]),false), [plan_id=526]\n",
      "                  +- Filter isnotnull(device_id#90)\n",
      "                     +- FileScan csv [device_id#90,browser_type#91,os_type#92,device_type#93] Batched: false, DataFilters: [isnotnull(device_id#90)], Format: CSV, Location: InMemoryFileIndex(1 paths)[file:/home/iceberg/data/devices.csv], PartitionFilters: [], PushedFilters: [IsNotNull(device_id)], ReadSchema: struct<device_id:string,browser_type:string,os_type:string,device_type:string>\n",
      "\n",
      "\n",
      "== Physical Plan ==\n",
      "AdaptiveSparkPlan isFinalPlan=false\n",
      "+- Project [device_id#18, user_id#17, referrer#19, host#20, url#21, cast(event_time#22 as timestamp) AS event_time#255, event_date#29, browser_family#181, os_family#182, device_type#93]\n",
      "   +- Sort [event_date#29 ASC NULLS FIRST, host#20 ASC NULLS FIRST], true, 0\n",
      "      +- Exchange rangepartitioning(event_date#29 ASC NULLS FIRST, host#20 ASC NULLS FIRST, 200), ENSURE_REQUIREMENTS, [plan_id=576]\n",
      "         +- Exchange hashpartitioning(event_date#29, 10), REPARTITION_BY_NUM, [plan_id=574]\n",
      "            +- Project [device_id#18, user_id#17, referrer#19, host#20, url#21, event_time#22, event_date#29, browser_type#91 AS browser_family#181, os_type#92 AS os_family#182, device_type#93]\n",
      "               +- BroadcastHashJoin [device_id#18], [device_id#90], LeftOuter, BuildRight, false\n",
      "                  :- Project [user_id#17, device_id#18, referrer#19, host#20, url#21, event_time#22, date_trunc(day, cast(event_time#22 as timestamp), Some(Etc/UTC)) AS event_date#29]\n",
      "                  :  +- FileScan csv [user_id#17,device_id#18,referrer#19,host#20,url#21,event_time#22] Batched: false, DataFilters: [], Format: CSV, Location: InMemoryFileIndex(1 paths)[file:/home/iceberg/data/events.csv], PartitionFilters: [], PushedFilters: [], ReadSchema: struct<user_id:string,device_id:string,referrer:string,host:string,url:string,event_time:string>\n",
      "                  +- BroadcastExchange HashedRelationBroadcastMode(List(input[0, string, false]),false), [plan_id=571]\n",
      "                     +- Filter isnotnull(device_id#90)\n",
      "                        +- FileScan csv [device_id#90,browser_type#91,os_type#92,device_type#93] Batched: false, DataFilters: [isnotnull(device_id#90)], Format: CSV, Location: InMemoryFileIndex(1 paths)[file:/home/iceberg/data/devices.csv], PartitionFilters: [], PushedFilters: [IsNotNull(device_id)], ReadSchema: struct<device_id:string,browser_type:string,os_type:string,device_type:string>\n",
      "\n",
      "\n"
     ]
    }
   ],
   "source": [
    "# .sortWithinPartitions() sorts within partitions, whereas .sort() is a global sort, which is very slow\n",
    "\n",
    "# Note - exchange is synonymous with Shuffle\n",
    "\n",
    "sorted_df.explain()\n",
    "sorted_df2.explain()"
   ]
  },
  {
   "cell_type": "code",
   "execution_count": 11,
   "id": "b8ad1c2a-4f27-464a-b99f-de9f16181c0c",
   "metadata": {},
   "outputs": [
    {
     "data": {
      "text/html": [
       "<table>\n",
       "    <thead>\n",
       "        <tr>\n",
       "        </tr>\n",
       "    </thead>\n",
       "    <tbody>\n",
       "    </tbody>\n",
       "</table>"
      ],
      "text/plain": [
       "++\n",
       "||\n",
       "++\n",
       "++"
      ]
     },
     "execution_count": 11,
     "metadata": {},
     "output_type": "execute_result"
    }
   ],
   "source": [
    "%%sql\n",
    "create database if not exists bootcamp"
   ]
  },
  {
   "cell_type": "code",
   "execution_count": 12,
   "id": "5c3fa637-56c6-4fa0-b0d2-40a04a0248f6",
   "metadata": {},
   "outputs": [
    {
     "data": {
      "text/html": [
       "<table>\n",
       "    <thead>\n",
       "        <tr>\n",
       "        </tr>\n",
       "    </thead>\n",
       "    <tbody>\n",
       "    </tbody>\n",
       "</table>"
      ],
      "text/plain": [
       "++\n",
       "||\n",
       "++\n",
       "++"
      ]
     },
     "execution_count": 12,
     "metadata": {},
     "output_type": "execute_result"
    }
   ],
   "source": [
    "%%sql\n",
    "create table if not exists bootcamp.events (\n",
    "    url string,\n",
    "    referrer string,\n",
    "    browser_family string,\n",
    "    os_family string,\n",
    "    device_family string,\n",
    "    host string,\n",
    "    event_time timestamp,\n",
    "    event_date date\n",
    ") using iceberg partitioned by (years(event_date))"
   ]
  },
  {
   "cell_type": "code",
   "execution_count": 16,
   "id": "95692fea-76b1-4682-81e8-d0a3b89edd0d",
   "metadata": {},
   "outputs": [
    {
     "data": {
      "text/html": [
       "<table>\n",
       "    <thead>\n",
       "        <tr>\n",
       "            <th>url</th>\n",
       "            <th>referrer</th>\n",
       "            <th>browser_family</th>\n",
       "            <th>os_family</th>\n",
       "            <th>device_family</th>\n",
       "            <th>host</th>\n",
       "            <th>event_time</th>\n",
       "            <th>event_date</th>\n",
       "        </tr>\n",
       "    </thead>\n",
       "    <tbody>\n",
       "    </tbody>\n",
       "</table>"
      ],
      "text/plain": [
       "+-----+----------+----------------+-----------+---------------+------+------------+------------+\n",
       "| url | referrer | browser_family | os_family | device_family | host | event_time | event_date |\n",
       "+-----+----------+----------------+-----------+---------------+------+------------+------------+\n",
       "+-----+----------+----------------+-----------+---------------+------+------------+------------+"
      ]
     },
     "execution_count": 16,
     "metadata": {},
     "output_type": "execute_result"
    }
   ],
   "source": [
    "%%sql\n",
    "select * from bootcamp.events"
   ]
  },
  {
   "cell_type": "code",
   "execution_count": 17,
   "id": "9a5e3ffd-e861-40b4-ad82-152183896eb0",
   "metadata": {},
   "outputs": [
    {
     "data": {
      "text/html": [
       "<table>\n",
       "    <thead>\n",
       "        <tr>\n",
       "        </tr>\n",
       "    </thead>\n",
       "    <tbody>\n",
       "    </tbody>\n",
       "</table>"
      ],
      "text/plain": [
       "++\n",
       "||\n",
       "++\n",
       "++"
      ]
     },
     "execution_count": 17,
     "metadata": {},
     "output_type": "execute_result"
    }
   ],
   "source": [
    "%%sql\n",
    "create table if not exists bootcamp.events_sorted (\n",
    "    url string,\n",
    "    referrer string,\n",
    "    browser_family string,\n",
    "    os_family string,\n",
    "    device_family string,\n",
    "    host string,\n",
    "    event_time timestamp,\n",
    "    event_date date\n",
    ") using iceberg partitioned by (years(event_date))"
   ]
  },
  {
   "cell_type": "code",
   "execution_count": 26,
   "id": "59aa759d-2593-4e31-8605-90b44f612866",
   "metadata": {},
   "outputs": [
    {
     "data": {
      "text/html": [
       "<table>\n",
       "    <thead>\n",
       "        <tr>\n",
       "        </tr>\n",
       "    </thead>\n",
       "    <tbody>\n",
       "    </tbody>\n",
       "</table>"
      ],
      "text/plain": [
       "++\n",
       "||\n",
       "++\n",
       "++"
      ]
     },
     "execution_count": 26,
     "metadata": {},
     "output_type": "execute_result"
    }
   ],
   "source": [
    "%%sql\n",
    "create table if not exists bootcamp.events_unsorted (\n",
    "    url string,\n",
    "    referrer string,\n",
    "    browser_family string,\n",
    "    os_family string,\n",
    "    device_family string,\n",
    "    host string,\n",
    "    event_time timestamp,\n",
    "    event_date date\n",
    ") using iceberg partitioned by (years(event_date))"
   ]
  },
  {
   "cell_type": "code",
   "execution_count": 33,
   "id": "5e05843c-2bbd-4b3d-b863-9706ca152630",
   "metadata": {},
   "outputs": [
    {
     "name": "stderr",
     "output_type": "stream",
     "text": [
      "                                                                                "
     ]
    }
   ],
   "source": [
    "start_df = df.repartition(4, col(\"event_date\")) \\\n",
    "                .withColumn(\"event_time\", col(\"event_time\").cast(\"timestamp\"))\n",
    "\n",
    "first_sort_df = start_df.sortWithinPartitions(col(\"event_date\"), col(\"host\"), col(\"browser_family\"))\n",
    "\n",
    "df.write.mode(\"overwrite\").saveAsTable(\"bootcamp.events\")\n",
    "start_df.write.mode(\"overwrite\").saveAsTable(\"bootcamp.events_unsorted\")\n",
    "first_sort_df.write.mode(\"overwrite\").saveAsTable(\"bootcamp.events_sorted\")"
   ]
  },
  {
   "cell_type": "code",
   "execution_count": 28,
   "id": "d914bc0a-09a0-4c5d-a54b-94c2567697a2",
   "metadata": {},
   "outputs": [
    {
     "data": {
      "text/html": [
       "<table>\n",
       "    <thead>\n",
       "        <tr>\n",
       "            <th>size</th>\n",
       "            <th>num_files</th>\n",
       "            <th>sorted</th>\n",
       "        </tr>\n",
       "    </thead>\n",
       "    <tbody>\n",
       "        <tr>\n",
       "            <td>5117103</td>\n",
       "            <td>4</td>\n",
       "            <td>sorted</td>\n",
       "        </tr>\n",
       "        <tr>\n",
       "            <td>5556664</td>\n",
       "            <td>4</td>\n",
       "            <td>unsorted</td>\n",
       "        </tr>\n",
       "    </tbody>\n",
       "</table>"
      ],
      "text/plain": [
       "+---------+-----------+----------+\n",
       "|    size | num_files |   sorted |\n",
       "+---------+-----------+----------+\n",
       "| 5117103 |         4 |   sorted |\n",
       "| 5556664 |         4 | unsorted |\n",
       "+---------+-----------+----------+"
      ]
     },
     "execution_count": 28,
     "metadata": {},
     "output_type": "execute_result"
    }
   ],
   "source": [
    "%%sql\n",
    "select sum(file_size_in_bytes) as size, count(1) as num_files, 'sorted'\n",
    "from bootcamp.events_sorted.files\n",
    "union all\n",
    "select sum(file_size_in_bytes) as size, count(1) as num_files, 'unsorted'\n",
    "from bootcamp.events_unsorted.files"
   ]
  },
  {
   "cell_type": "code",
   "execution_count": 34,
   "id": "9056698c-2c00-499b-8b7c-369e27a607e3",
   "metadata": {},
   "outputs": [
    {
     "data": {
      "text/html": [
       "<table>\n",
       "    <thead>\n",
       "        <tr>\n",
       "            <th>size</th>\n",
       "            <th>num_files</th>\n",
       "        </tr>\n",
       "    </thead>\n",
       "    <tbody>\n",
       "        <tr>\n",
       "            <td>6029732</td>\n",
       "            <td>4</td>\n",
       "        </tr>\n",
       "    </tbody>\n",
       "</table>"
      ],
      "text/plain": [
       "+---------+-----------+\n",
       "|    size | num_files |\n",
       "+---------+-----------+\n",
       "| 6029732 |         4 |\n",
       "+---------+-----------+"
      ]
     },
     "execution_count": 34,
     "metadata": {},
     "output_type": "execute_result"
    }
   ],
   "source": [
    "%%sql\n",
    "select sum(file_size_in_bytes) as size, count(1) as num_files\n",
    "from bootcamp.events.files"
   ]
  },
  {
   "cell_type": "code",
   "execution_count": null,
   "id": "4475e0f2-daa5-4333-b714-4a9c6320f0a6",
   "metadata": {},
   "outputs": [],
   "source": []
  }
 ],
 "metadata": {
  "kernelspec": {
   "display_name": "Python 3 (ipykernel)",
   "language": "python",
   "name": "python3"
  },
  "language_info": {
   "codemirror_mode": {
    "name": "ipython",
    "version": 3
   },
   "file_extension": ".py",
   "mimetype": "text/x-python",
   "name": "python",
   "nbconvert_exporter": "python",
   "pygments_lexer": "ipython3",
   "version": "3.10.16"
  }
 },
 "nbformat": 4,
 "nbformat_minor": 5
}
