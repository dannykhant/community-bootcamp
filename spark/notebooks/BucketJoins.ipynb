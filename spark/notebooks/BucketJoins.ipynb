{
 "cells": [
  {
   "cell_type": "code",
   "execution_count": 17,
   "id": "073910f0-ca0c-411b-9e65-cfbfd23884b1",
   "metadata": {},
   "outputs": [
    {
     "data": {
      "text/plain": [
       "import org.apache.spark.sql.functions.{broadcast, split, lit}\n",
       "matches: org.apache.spark.sql.DataFrame = [match_id: string, mapid: string ... 8 more fields]\n",
       "matchDetailsBucketed: org.apache.spark.sql.DataFrame = [match_id: string, player_gamertag: string ... 34 more fields]\n",
       "import spark.implicits._\n",
       "matchesBucketed: org.apache.spark.sql.Dataset[org.apache.spark.sql.Row] = [match_id: string, mapid: string ... 8 more fields]\n"
      ]
     },
     "execution_count": 17,
     "metadata": {},
     "output_type": "execute_result"
    }
   ],
   "source": [
    "// In python use: from pyspark.sql.functions import broadcast, split, lit\n",
    "import org.apache.spark.sql.functions.{broadcast, split, lit}\n",
    "\n",
    "spark.conf.set(\"spark.sql.autoBroadcastJoinThreshold\", \"-1\")\n",
    "\n",
    "val matches = spark.read.option(\"header\", \"true\")\n",
    "                                    .option(\"inferSchema\", \"true\")\n",
    "                                    .csv(\"/home/iceberg/data/matches.csv\")\n",
    "\n",
    "val matchDetailsBucketed = spark.read.option(\"header\", \"true\")\n",
    "                                        .option(\"inferSchema\", \"true\")\n",
    "                                        .csv(\"/home/iceberg/data/match_details.csv\")\n",
    "\n",
    "import spark.implicits._\n",
    "val matchesBucketed = matches.where($\"completion_date\" === \"2016-01-01\")\n",
    "                                        "
   ]
  },
  {
   "cell_type": "code",
   "execution_count": 2,
   "id": "085bcb31-dbd9-477e-91db-5d05e41b256b",
   "metadata": {},
   "outputs": [
    {
     "data": {
      "text/plain": [
       "bucketedDDL: String =\n",
       "\"\n",
       "    create table if not exists bootcamp.matches_bucketed (\n",
       "        match_id string,\n",
       "        is_team_game boolean,\n",
       "        playlist_id string,\n",
       "        completion_date timestamp\n",
       "    )\n",
       "    using iceberg\n",
       "    partitioned by (completion_date, bucket(16, match_id))\n",
       "\"\n",
       "res0: org.apache.spark.sql.DataFrame = []\n"
      ]
     },
     "execution_count": 2,
     "metadata": {},
     "output_type": "execute_result"
    }
   ],
   "source": [
    "spark.sql(s\"drop table if exists bootcamp.matches_bucketed\")\n",
    "val bucketedDDL = f\"\"\"\n",
    "    create table if not exists bootcamp.matches_bucketed (\n",
    "        match_id string,\n",
    "        is_team_game boolean,\n",
    "        playlist_id string,\n",
    "        completion_date timestamp\n",
    "    )\n",
    "    using iceberg\n",
    "    partitioned by (completion_date, bucket(16, match_id))\n",
    "\"\"\"\n",
    "spark.sql(bucketedDDL)"
   ]
  },
  {
   "cell_type": "code",
   "execution_count": 22,
   "id": "64d40a92-2196-4050-b8c5-69e73dd74890",
   "metadata": {},
   "outputs": [],
   "source": [
    "matchesBucketed.select(\n",
    "    $\"match_id\",\n",
    "    $\"is_team_game\",\n",
    "    $\"playlist_id\",\n",
    "    $\"completion_date\"\n",
    ")\n",
    ".write.mode(\"overwrite\")\n",
    ".partitionBy(\"completion_date\")\n",
    ".bucketBy(16, \"match_id\")\n",
    ".saveAsTable(\"bootcamp.matches_bucketed\")"
   ]
  },
  {
   "cell_type": "code",
   "execution_count": 10,
   "id": "0ea07ef8-a34d-4ea8-a5cc-2428099518c8",
   "metadata": {},
   "outputs": [
    {
     "data": {
      "text/plain": [
       "bucketedDetailsDDL: String =\n",
       "\"\n",
       "    create table if not exists bootcamp.match_details_bucketed (\n",
       "        match_id string,\n",
       "        player_gamertag string,\n",
       "        player_total_kills integer,\n",
       "        player_total_deaths integer\n",
       "    )\n",
       "    using iceberg\n",
       "    partitioned by (bucket(16, match_id))\n",
       "\"\n",
       "res7: org.apache.spark.sql.DataFrame = []\n"
      ]
     },
     "execution_count": 10,
     "metadata": {},
     "output_type": "execute_result"
    }
   ],
   "source": [
    "spark.sql(\"drop table if exists bootcamp.match_details_bucketed\")\n",
    "val bucketedDetailsDDL = f\"\"\"\n",
    "    create table if not exists bootcamp.match_details_bucketed (\n",
    "        match_id string,\n",
    "        player_gamertag string,\n",
    "        player_total_kills integer,\n",
    "        player_total_deaths integer\n",
    "    )\n",
    "    using iceberg\n",
    "    partitioned by (bucket(16, match_id))\n",
    "\"\"\"\n",
    "spark.sql(bucketedDetailsDDL)"
   ]
  },
  {
   "cell_type": "code",
   "execution_count": 11,
   "id": "0a16f708-aba6-4bf4-9095-7ff08f79742f",
   "metadata": {},
   "outputs": [],
   "source": [
    "matchDetailsBucketed.select(\n",
    "    $\"match_id\",\n",
    "    $\"player_gamertag\",\n",
    "    $\"player_total_kills\",\n",
    "    $\"player_total_deaths\"\n",
    ")\n",
    ".write.mode(\"overwrite\")\n",
    ".bucketBy(16, \"match_id\")\n",
    ".saveAsTable(\"bootcamp.match_details_bucketed\")"
   ]
  },
  {
   "cell_type": "code",
   "execution_count": 24,
   "id": "15032098-49bb-4696-9b7a-19eb2f6d4a8f",
   "metadata": {},
   "outputs": [],
   "source": [
    "matchesBucketed.createOrReplaceTempView(\"matches\")\n",
    "matchDetailsBucketed.createOrReplaceTempView(\"match_details\")"
   ]
  },
  {
   "cell_type": "code",
   "execution_count": 23,
   "id": "d91b0469-fade-4e1a-b60e-68d2be6c1ddf",
   "metadata": {},
   "outputs": [
    {
     "name": "stdout",
     "output_type": "stream",
     "text": [
      "== Physical Plan ==\n",
      "AdaptiveSparkPlan isFinalPlan=false\n",
      "+- SortMergeJoin [match_id#978], [match_id#982], Inner\n",
      "   :- Sort [match_id#978 ASC NULLS FIRST], false, 0\n",
      "   :  +- Exchange hashpartitioning(match_id#978, 200), ENSURE_REQUIREMENTS, [plan_id=395]\n",
      "   :     +- BatchScan demo.bootcamp.match_details_bucketed[match_id#978, player_gamertag#979, player_total_kills#980, player_total_deaths#981] demo.bootcamp.match_details_bucketed (branch=null) [filters=match_id IS NOT NULL, groupedBy=] RuntimeFilters: []\n",
      "   +- Sort [match_id#982 ASC NULLS FIRST], false, 0\n",
      "      +- Exchange hashpartitioning(match_id#982, 200), ENSURE_REQUIREMENTS, [plan_id=396]\n",
      "         +- BatchScan demo.bootcamp.matches_bucketed[match_id#982, is_team_game#983, playlist_id#984, completion_date#985] demo.bootcamp.matches_bucketed (branch=null) [filters=completion_date IS NOT NULL, completion_date = 1451606400000000, match_id IS NOT NULL, groupedBy=] RuntimeFilters: []\n",
      "\n",
      "\n"
     ]
    }
   ],
   "source": [
    "spark.sql(\"\"\"\n",
    "    select *\n",
    "    from bootcamp.match_details_bucketed mdb\n",
    "    join bootcamp.matches_bucketed mb\n",
    "    on mdb.match_id = mb.match_id\n",
    "    and mb.completion_date = date('2016-01-01')\n",
    "\"\"\").explain()"
   ]
  },
  {
   "cell_type": "code",
   "execution_count": 25,
   "id": "71a2c70f-8e62-469a-9378-eeaa762cf04f",
   "metadata": {},
   "outputs": [
    {
     "name": "stdout",
     "output_type": "stream",
     "text": [
      "== Physical Plan ==\n",
      "AdaptiveSparkPlan isFinalPlan=false\n",
      "+- SortMergeJoin [match_id#583], [match_id#546], Inner\n",
      "   :- Sort [match_id#583 ASC NULLS FIRST], false, 0\n",
      "   :  +- Exchange hashpartitioning(match_id#583, 200), ENSURE_REQUIREMENTS, [plan_id=428]\n",
      "   :     +- Filter isnotnull(match_id#583)\n",
      "   :        +- FileScan csv [match_id#583,player_gamertag#584,previous_spartan_rank#585,spartan_rank#586,previous_total_xp#587,total_xp#588,previous_csr_tier#589,previous_csr_designation#590,previous_csr#591,previous_csr_percent_to_next_tier#592,previous_csr_rank#593,current_csr_tier#594,current_csr_designation#595,current_csr#596,current_csr_percent_to_next_tier#597,current_csr_rank#598,player_rank_on_team#599,player_finished#600,player_average_life#601,player_total_kills#602,player_total_headshots#603,player_total_weapon_damage#604,player_total_shots_landed#605,player_total_melee_kills#606,... 12 more fields] Batched: false, DataFilters: [isnotnull(match_id#583)], Format: CSV, Location: InMemoryFileIndex(1 paths)[file:/home/iceberg/data/match_details.csv], PartitionFilters: [], PushedFilters: [IsNotNull(match_id)], ReadSchema: struct<match_id:string,player_gamertag:string,previous_spartan_rank:int,spartan_rank:int,previous...\n",
      "   +- Sort [match_id#546 ASC NULLS FIRST], false, 0\n",
      "      +- Exchange hashpartitioning(match_id#546, 200), ENSURE_REQUIREMENTS, [plan_id=429]\n",
      "         +- Filter ((isnotnull(completion_date#552) AND (completion_date#552 = 2016-01-01 00:00:00)) AND isnotnull(match_id#546))\n",
      "            +- FileScan csv [match_id#546,mapid#547,is_team_game#548,playlist_id#549,game_variant_id#550,is_match_over#551,completion_date#552,match_duration#553,game_mode#554,map_variant_id#555] Batched: false, DataFilters: [isnotnull(completion_date#552), (completion_date#552 = 2016-01-01 00:00:00), isnotnull(match_id#..., Format: CSV, Location: InMemoryFileIndex(1 paths)[file:/home/iceberg/data/matches.csv], PartitionFilters: [], PushedFilters: [IsNotNull(completion_date), EqualTo(completion_date,2016-01-01 00:00:00.0), IsNotNull(match_id)], ReadSchema: struct<match_id:string,mapid:string,is_team_game:boolean,playlist_id:string,game_variant_id:strin...\n",
      "\n",
      "\n"
     ]
    }
   ],
   "source": [
    "spark.sql(\"\"\"\n",
    "    select *\n",
    "    from match_details md\n",
    "    join matches m\n",
    "    on md.match_id = m.match_id\n",
    "\"\"\").explain()"
   ]
  },
  {
   "cell_type": "code",
   "execution_count": 16,
   "id": "9337de1a-3c5e-4083-98e9-449932b46b0e",
   "metadata": {},
   "outputs": [
    {
     "data": {
      "text/plain": [
       "broadcastFromThreshold: Array[org.apache.spark.sql.Row] = Array([2016-01-01 00:00:00.0,EcZachly,7], [2016-01-01 00:00:00.0,Hernan Crespo,11], [2016-01-01 00:00:00.0,xHBKxTheTruthx,6], [2016-01-01 00:00:00.0,PRGUY18,1], [2016-01-01 00:00:00.0,Ash All Mighty,3])\n"
      ]
     },
     "execution_count": 16,
     "metadata": {},
     "output_type": "execute_result"
    }
   ],
   "source": [
    "spark.conf.set(\"spark.sql.autoBroadcastJoinThreshold\", \"1000000000000\")\n",
    "\n",
    "val broadcastFromThreshold = matchesBucketed.as(\"m\")\n",
    "    .join(matchDetailsBucketed.as(\"md\"), \n",
    "        $\"m.match_id\" === $\"md.match_id\")\n",
    "    .select($\"m.completion_date\", $\"md.player_gamertag\", $\"md.player_total_kills\")\n",
    "    .take(5)"
   ]
  },
  {
   "cell_type": "code",
   "execution_count": 18,
   "id": "20c59984-ed6c-477c-b0f3-c860d5212217",
   "metadata": {},
   "outputs": [
    {
     "data": {
      "text/plain": [
       "explicitBroadcast: org.apache.spark.sql.DataFrame = [match_id: string, player_gamertag: string ... 35 more fields]\n"
      ]
     },
     "execution_count": 18,
     "metadata": {},
     "output_type": "execute_result"
    }
   ],
   "source": [
    "val explicitBroadcast = broadcast(matchesBucketed).as(\"m\")\n",
    "    .join(matchDetailsBucketed.as(\"md\"),\n",
    "        $\"m.match_id\" === $\"md.match_id\")\n",
    "    .select($\"md.*\", split($\"completion_date\", \" \").getItem(0).as(\"ds\"))"
   ]
  },
  {
   "cell_type": "code",
   "execution_count": 19,
   "id": "691e8b24-c3b6-4b93-afa5-ad8b45dc2149",
   "metadata": {},
   "outputs": [
    {
     "name": "stdout",
     "output_type": "stream",
     "text": [
      "== Physical Plan ==\n",
      "AdaptiveSparkPlan isFinalPlan=false\n",
      "+- SortMergeJoin [match_id#583], [match_id#546], Inner\n",
      "   :- Sort [match_id#583 ASC NULLS FIRST], false, 0\n",
      "   :  +- Exchange hashpartitioning(match_id#583, 200), ENSURE_REQUIREMENTS, [plan_id=338]\n",
      "   :     +- Filter isnotnull(match_id#583)\n",
      "   :        +- FileScan csv [match_id#583,player_gamertag#584,previous_spartan_rank#585,spartan_rank#586,previous_total_xp#587,total_xp#588,previous_csr_tier#589,previous_csr_designation#590,previous_csr#591,previous_csr_percent_to_next_tier#592,previous_csr_rank#593,current_csr_tier#594,current_csr_designation#595,current_csr#596,current_csr_percent_to_next_tier#597,current_csr_rank#598,player_rank_on_team#599,player_finished#600,player_average_life#601,player_total_kills#602,player_total_headshots#603,player_total_weapon_damage#604,player_total_shots_landed#605,player_total_melee_kills#606,... 12 more fields] Batched: false, DataFilters: [isnotnull(match_id#583)], Format: CSV, Location: InMemoryFileIndex(1 paths)[file:/home/iceberg/data/match_details.csv], PartitionFilters: [], PushedFilters: [IsNotNull(match_id)], ReadSchema: struct<match_id:string,player_gamertag:string,previous_spartan_rank:int,spartan_rank:int,previous...\n",
      "   +- Sort [match_id#546 ASC NULLS FIRST], false, 0\n",
      "      +- Exchange hashpartitioning(match_id#546, 200), ENSURE_REQUIREMENTS, [plan_id=339]\n",
      "         +- Filter ((isnotnull(completion_date#552) AND (completion_date#552 = 2016-01-01 00:00:00)) AND isnotnull(match_id#546))\n",
      "            +- FileScan csv [match_id#546,mapid#547,is_team_game#548,playlist_id#549,game_variant_id#550,is_match_over#551,completion_date#552,match_duration#553,game_mode#554,map_variant_id#555] Batched: false, DataFilters: [isnotnull(completion_date#552), (completion_date#552 = 2016-01-01 00:00:00), isnotnull(match_id#..., Format: CSV, Location: InMemoryFileIndex(1 paths)[file:/home/iceberg/data/matches.csv], PartitionFilters: [], PushedFilters: [IsNotNull(completion_date), EqualTo(completion_date,2016-01-01 00:00:00.0), IsNotNull(match_id)], ReadSchema: struct<match_id:string,mapid:string,is_team_game:boolean,playlist_id:string,game_variant_id:strin...\n",
      "\n",
      "\n"
     ]
    },
    {
     "data": {
      "text/plain": [
       "bucketedValues: Unit = ()\n"
      ]
     },
     "execution_count": 19,
     "metadata": {},
     "output_type": "execute_result"
    }
   ],
   "source": [
    "val bucketedValues = matchDetailsBucketed.as(\"md\")\n",
    "    .join(matchesBucketed.as(\"m\"),\n",
    "        $\"md.match_id\" === $\"m.match_id\").explain()"
   ]
  },
  {
   "cell_type": "code",
   "execution_count": null,
   "id": "f981c1c8-e71a-4cf6-9642-2107a5cd2661",
   "metadata": {},
   "outputs": [],
   "source": []
  }
 ],
 "metadata": {
  "kernelspec": {
   "display_name": "spylon-kernel",
   "language": "scala",
   "name": "spylon-kernel"
  },
  "language_info": {
   "codemirror_mode": "text/x-scala",
   "file_extension": ".scala",
   "help_links": [
    {
     "text": "MetaKernel Magics",
     "url": "https://metakernel.readthedocs.io/en/latest/source/README.html"
    }
   ],
   "mimetype": "text/x-scala",
   "name": "scala",
   "pygments_lexer": "scala",
   "version": "0.4.1"
  }
 },
 "nbformat": 4,
 "nbformat_minor": 5
}
