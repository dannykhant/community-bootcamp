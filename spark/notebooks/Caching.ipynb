{
 "cells": [
  {
   "cell_type": "code",
   "execution_count": 1,
   "id": "b40abc48-e581-4c4c-972c-1bd4afa52e98",
   "metadata": {},
   "outputs": [
    {
     "data": {
      "text/plain": [
       "import org.apache.spark.sql.functions._\n",
       "import org.apache.spark.storage.StorageLevel\n",
       "events: org.apache.spark.sql.Dataset[org.apache.spark.sql.Row] = [user_id: int, device_id: int ... 4 more fields]\n"
      ]
     },
     "execution_count": 1,
     "metadata": {},
     "output_type": "execute_result"
    }
   ],
   "source": [
    "import org.apache.spark.sql.functions._\n",
    "import org.apache.spark.storage.StorageLevel\n",
    "\n",
    "spark.conf.set(\"spark.sql.autoBroadcastJoinThreshold\", \"-1\")\n",
    "spark.conf.set(\"spark.sql.analyzer.failAmbiguousSelfJoin\", \"false\")\n",
    "spark.conf.set(\"spark.sql.shuffle.partitions\", \"4\")\n",
    "\n",
    "val events = spark.read.option(\"header\", \"true\")\n",
    "                        .option(\"inferSchema\", \"true\")\n",
    "                        .csv(\"/home/iceberg/data/events.csv\")\n",
    "                        .where($\"user_id\".isNotNull)\n",
    "\n",
    "events.createOrReplaceTempView(\"events\")"
   ]
  },
  {
   "cell_type": "code",
   "execution_count": 2,
   "id": "277f58ab-02f3-40f7-a26b-9e3865088611",
   "metadata": {},
   "outputs": [
    {
     "data": {
      "text/plain": [
       "devices: org.apache.spark.sql.DataFrame = [device_id: int, browser_type: string ... 2 more fields]\n"
      ]
     },
     "execution_count": 2,
     "metadata": {},
     "output_type": "execute_result"
    }
   ],
   "source": [
    "val devices = spark.read.option(\"header\", \"true\")\n",
    "                            .option(\"inferSchema\", \"true\")\n",
    "                            .csv(\"/home/iceberg/data/devices.csv\")\n",
    "\n",
    "devices.createOrReplaceTempView(\"devices\")"
   ]
  },
  {
   "cell_type": "code",
   "execution_count": 19,
   "id": "e55aa528-eef4-43a9-a91b-91433b07f6ac",
   "metadata": {},
   "outputs": [
    {
     "data": {
      "text/plain": [
       "eventsAgg: org.apache.spark.sql.Dataset[org.apache.spark.sql.Row] = [user_id: int, device_id: int ... 2 more fields]\n"
      ]
     },
     "execution_count": 19,
     "metadata": {},
     "output_type": "execute_result"
    }
   ],
   "source": [
    "// Caching here should be < 5 GBs or used for broadcast join\n",
    "// You need to tune executor memory otherwise it will spill to disk and be slow\n",
    "// Do not really try using any of the other StorageLevel besides MEMORY_ONLY\n",
    "\n",
    "val eventsAgg = spark.sql(s\"\"\"\n",
    "    select \n",
    "        user_id,\n",
    "        device_id,\n",
    "        count(1) as event_counts,\n",
    "        collect_list(distinct host) as host_array\n",
    "    from events\n",
    "    group by\n",
    "        user_id,\n",
    "        device_id\n",
    "\"\"\").cache()\n",
    "\n",
    "// eventsAgg.write.mode(\"overwrite\").saveAsTable(\"bootcamp.events_agg_staging\")"
   ]
  },
  {
   "cell_type": "code",
   "execution_count": 11,
   "id": "61b20602-01d8-48c7-98b5-259267c19df9",
   "metadata": {},
   "outputs": [
    {
     "data": {
      "text/plain": [
       "res5: org.apache.spark.sql.DataFrame = []\n"
      ]
     },
     "execution_count": 11,
     "metadata": {},
     "output_type": "execute_result"
    }
   ],
   "source": [
    "spark.sql(f\"\"\"\n",
    "    create table if not exists bootcamp.events_agg_staging (\n",
    "        user_id bigint,\n",
    "        device bigint,\n",
    "        event_counts bigint,\n",
    "        host_array array<string>\n",
    "    )\n",
    "    partitioned by (ds string)\n",
    "\"\"\")"
   ]
  },
  {
   "cell_type": "code",
   "execution_count": 21,
   "id": "4f1b8405-90d1-4ad2-a79d-e54e9ffd7c27",
   "metadata": {},
   "outputs": [
    {
     "data": {
      "text/plain": [
       "eventsAndEventsAgg: org.apache.spark.sql.DataFrame = [user_id: int, user_id: int ... 2 more fields]\n"
      ]
     },
     "execution_count": 21,
     "metadata": {},
     "output_type": "execute_result"
    }
   ],
   "source": [
    "val eventsAndEventsAgg = events\n",
    "    .join(eventsAgg, events(\"user_id\") === eventsAgg(\"user_id\"))\n",
    "    .groupBy(events(\"user_id\"))\n",
    "    .agg(\n",
    "        events(\"user_id\"),\n",
    "        max(eventsAgg(\"event_counts\")).as(\"total_hits\"),\n",
    "        collect_list(eventsAgg(\"device_id\")).as(\"devices\")\n",
    "    )"
   ]
  },
  {
   "cell_type": "code",
   "execution_count": 22,
   "id": "a0eb9123-0aac-4da2-8a2a-78e9a872d01d",
   "metadata": {},
   "outputs": [
    {
     "data": {
      "text/plain": [
       "devicesAndEventsAgg: org.apache.spark.sql.DataFrame = [device_id: int, device_type: string ... 3 more fields]\n"
      ]
     },
     "execution_count": 22,
     "metadata": {},
     "output_type": "execute_result"
    }
   ],
   "source": [
    "val devicesAndEventsAgg = devices\n",
    "    .join(eventsAgg, devices(\"device_id\") === eventsAgg(\"device_id\"))\n",
    "    .groupBy(devices(\"device_id\"), devices(\"device_type\"))\n",
    "    .agg(\n",
    "        devices(\"device_id\"),\n",
    "        devices(\"device_type\"),\n",
    "        collect_list(eventsAgg(\"user_id\")).as(\"users\")\n",
    "    )"
   ]
  },
  {
   "cell_type": "code",
   "execution_count": 23,
   "id": "596e61bd-c8fc-4e8c-980a-951e34208ec6",
   "metadata": {},
   "outputs": [
    {
     "name": "stdout",
     "output_type": "stream",
     "text": [
      "== Physical Plan ==\n",
      "AdaptiveSparkPlan isFinalPlan=false\n",
      "+- ObjectHashAggregate(keys=[user_id#17], functions=[max(event_counts#246L), collect_list(device_id#18, 0, 0)])\n",
      "   +- ObjectHashAggregate(keys=[user_id#17], functions=[partial_max(event_counts#246L), partial_collect_list(device_id#18, 0, 0)])\n",
      "      +- Project [user_id#17, device_id#18, event_counts#246L]\n",
      "         +- SortMergeJoin [user_id#17], [user_id#280], Inner\n",
      "            :- Sort [user_id#17 ASC NULLS FIRST], false, 0\n",
      "            :  +- Exchange hashpartitioning(user_id#17, 4), ENSURE_REQUIREMENTS, [plan_id=227]\n",
      "            :     +- Filter isnotnull(user_id#17)\n",
      "            :        +- FileScan csv [user_id#17,device_id#18] Batched: false, DataFilters: [isnotnull(user_id#17)], Format: CSV, Location: InMemoryFileIndex(1 paths)[file:/home/iceberg/data/events.csv], PartitionFilters: [], PushedFilters: [IsNotNull(user_id)], ReadSchema: struct<user_id:int,device_id:int>\n",
      "            +- Sort [user_id#280 ASC NULLS FIRST], false, 0\n",
      "               +- Exchange hashpartitioning(user_id#280, 4), ENSURE_REQUIREMENTS, [plan_id=228]\n",
      "                  +- Filter isnotnull(user_id#280)\n",
      "                     +- InMemoryTableScan [user_id#280, event_counts#246L], [isnotnull(user_id#280)]\n",
      "                           +- InMemoryRelation [user_id#280, device_id#281, event_counts#246L, host_array#247], StorageLevel(disk, memory, deserialized, 1 replicas)\n",
      "                                 +- AdaptiveSparkPlan isFinalPlan=false\n",
      "                                    +- ObjectHashAggregate(keys=[user_id#17, device_id#18], functions=[count(1), collect_list(distinct host#20, 0, 0)])\n",
      "                                       +- Exchange hashpartitioning(user_id#17, device_id#18, 4), ENSURE_REQUIREMENTS, [plan_id=191]\n",
      "                                          +- ObjectHashAggregate(keys=[user_id#17, device_id#18], functions=[merge_count(1), partial_collect_list(distinct host#20, 0, 0)])\n",
      "                                             +- HashAggregate(keys=[user_id#17, device_id#18, host#20], functions=[merge_count(1)])\n",
      "                                                +- Exchange hashpartitioning(user_id#17, device_id#18, host#20, 4), ENSURE_REQUIREMENTS, [plan_id=187]\n",
      "                                                   +- HashAggregate(keys=[user_id#17, device_id#18, host#20], functions=[partial_count(1)])\n",
      "                                                      +- Filter isnotnull(user_id#17)\n",
      "                                                         +- FileScan csv [user_id#17,device_id#18,host#20] Batched: false, DataFilters: [isnotnull(user_id#17)], Format: CSV, Location: InMemoryFileIndex(1 paths)[file:/home/iceberg/data/events.csv], PartitionFilters: [], PushedFilters: [IsNotNull(user_id)], ReadSchema: struct<user_id:int,device_id:int,host:string>\n",
      "\n",
      "\n",
      "== Physical Plan ==\n",
      "AdaptiveSparkPlan isFinalPlan=false\n",
      "+- ObjectHashAggregate(keys=[device_id#47, device_type#50], functions=[collect_list(user_id#17, 0, 0)])\n",
      "   +- ObjectHashAggregate(keys=[device_id#47, device_type#50], functions=[partial_collect_list(user_id#17, 0, 0)])\n",
      "      +- Project [device_id#47, device_type#50, user_id#17]\n",
      "         +- SortMergeJoin [device_id#47], [device_id#18], Inner\n",
      "            :- Sort [device_id#47 ASC NULLS FIRST], false, 0\n",
      "            :  +- Exchange hashpartitioning(device_id#47, 4), ENSURE_REQUIREMENTS, [plan_id=269]\n",
      "            :     +- Filter isnotnull(device_id#47)\n",
      "            :        +- FileScan csv [device_id#47,device_type#50] Batched: false, DataFilters: [isnotnull(device_id#47)], Format: CSV, Location: InMemoryFileIndex(1 paths)[file:/home/iceberg/data/devices.csv], PartitionFilters: [], PushedFilters: [IsNotNull(device_id)], ReadSchema: struct<device_id:int,device_type:string>\n",
      "            +- Sort [device_id#18 ASC NULLS FIRST], false, 0\n",
      "               +- Exchange hashpartitioning(device_id#18, 4), ENSURE_REQUIREMENTS, [plan_id=270]\n",
      "                  +- Filter isnotnull(device_id#18)\n",
      "                     +- InMemoryTableScan [user_id#17, device_id#18], [isnotnull(device_id#18)]\n",
      "                           +- InMemoryRelation [user_id#17, device_id#18, event_counts#246L, host_array#247], StorageLevel(disk, memory, deserialized, 1 replicas)\n",
      "                                 +- AdaptiveSparkPlan isFinalPlan=false\n",
      "                                    +- ObjectHashAggregate(keys=[user_id#17, device_id#18], functions=[count(1), collect_list(distinct host#20, 0, 0)])\n",
      "                                       +- Exchange hashpartitioning(user_id#17, device_id#18, 4), ENSURE_REQUIREMENTS, [plan_id=191]\n",
      "                                          +- ObjectHashAggregate(keys=[user_id#17, device_id#18], functions=[merge_count(1), partial_collect_list(distinct host#20, 0, 0)])\n",
      "                                             +- HashAggregate(keys=[user_id#17, device_id#18, host#20], functions=[merge_count(1)])\n",
      "                                                +- Exchange hashpartitioning(user_id#17, device_id#18, host#20, 4), ENSURE_REQUIREMENTS, [plan_id=187]\n",
      "                                                   +- HashAggregate(keys=[user_id#17, device_id#18, host#20], functions=[partial_count(1)])\n",
      "                                                      +- Filter isnotnull(user_id#17)\n",
      "                                                         +- FileScan csv [user_id#17,device_id#18,host#20] Batched: false, DataFilters: [isnotnull(user_id#17)], Format: CSV, Location: InMemoryFileIndex(1 paths)[file:/home/iceberg/data/events.csv], PartitionFilters: [], PushedFilters: [IsNotNull(user_id)], ReadSchema: struct<user_id:int,device_id:int,host:string>\n",
      "\n",
      "\n"
     ]
    }
   ],
   "source": [
    "eventsAndEventsAgg.explain()\n",
    "devicesAndEventsAgg.explain()"
   ]
  },
  {
   "cell_type": "code",
   "execution_count": 25,
   "id": "14f554ac-2e03-49eb-b989-0ae810c1eb3d",
   "metadata": {},
   "outputs": [
    {
     "data": {
      "text/plain": [
       "res11: Array[org.apache.spark.sql.Row] = Array([-2147042689,Other,-2147042689,Other,WrappedArray(1633522354)])\n"
      ]
     },
     "execution_count": 25,
     "metadata": {},
     "output_type": "execute_result"
    }
   ],
   "source": [
    "eventsAndEventsAgg.take(1)\n",
    "devicesAndEventsAgg.take(1)"
   ]
  },
  {
   "cell_type": "code",
   "execution_count": 26,
   "id": "4d5c980c-52ad-4037-a220-d7706a18b3de",
   "metadata": {},
   "outputs": [
    {
     "data": {
      "text/plain": [
       "res12: eventsAgg.type = [user_id: int, device_id: int ... 2 more fields]\n"
      ]
     },
     "execution_count": 26,
     "metadata": {},
     "output_type": "execute_result"
    }
   ],
   "source": [
    "eventsAgg.unpersist()"
   ]
  },
  {
   "cell_type": "code",
   "execution_count": null,
   "id": "9a33572d-74a5-4937-a896-bbc5dd035532",
   "metadata": {},
   "outputs": [],
   "source": []
  }
 ],
 "metadata": {
  "kernelspec": {
   "display_name": "spylon-kernel",
   "language": "scala",
   "name": "spylon-kernel"
  },
  "language_info": {
   "codemirror_mode": "text/x-scala",
   "file_extension": ".scala",
   "help_links": [
    {
     "text": "MetaKernel Magics",
     "url": "https://metakernel.readthedocs.io/en/latest/source/README.html"
    }
   ],
   "mimetype": "text/x-scala",
   "name": "scala",
   "pygments_lexer": "scala",
   "version": "0.4.1"
  }
 },
 "nbformat": 4,
 "nbformat_minor": 5
}
