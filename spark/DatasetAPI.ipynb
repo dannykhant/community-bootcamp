{
 "cells": [
  {
   "cell_type": "code",
   "execution_count": 1,
   "id": "7c246d98-aa16-45aa-8196-370a68986b21",
   "metadata": {},
   "outputs": [
    {
     "data": {
      "text/plain": [
       "Intitializing Scala interpreter ..."
      ]
     },
     "metadata": {},
     "output_type": "display_data"
    },
    {
     "data": {
      "text/plain": [
       "Spark Web UI available at http://12f90e88fb0f:4041\n",
       "SparkContext available as 'sc' (version = 3.5.5, master = local[*], app id = local-1751376125011)\n",
       "SparkSession available as 'spark'\n"
      ]
     },
     "metadata": {},
     "output_type": "display_data"
    },
    {
     "data": {
      "text/plain": [
       "res0: org.apache.spark.sql.SparkSession = org.apache.spark.sql.SparkSession@688a87ad\n"
      ]
     },
     "execution_count": 1,
     "metadata": {},
     "output_type": "execute_result"
    }
   ],
   "source": [
    "spark"
   ]
  },
  {
   "cell_type": "code",
   "execution_count": 52,
   "id": "53188738-e99e-4a33-a21e-39f1ec6c8ac6",
   "metadata": {},
   "outputs": [
    {
     "data": {
      "text/plain": [
       "import org.apache.spark.sql.SparkSession\n",
       "session: org.apache.spark.sql.SparkSession = org.apache.spark.sql.SparkSession@688a87ad\n",
       "defined class Event\n"
      ]
     },
     "execution_count": 52,
     "metadata": {},
     "output_type": "execute_result"
    }
   ],
   "source": [
    "import org.apache.spark.sql.SparkSession\n",
    "\n",
    "val session = SparkSession.builder.appName(\"DatasetAPI\").getOrCreate()\n",
    "\n",
    "case class Event (\n",
    "    //Option is a way to handle NULL more gracefully\n",
    "    user_id: Option[Integer],\n",
    "    device_id: Option[Integer],\n",
    "    referrer: String,\n",
    "    host: String,\n",
    "    url: String,\n",
    "    event_time: String\n",
    ")"
   ]
  },
  {
   "cell_type": "code",
   "execution_count": 51,
   "id": "2060565c-5e69-4d35-b38e-01aae5a1594c",
   "metadata": {},
   "outputs": [
    {
     "data": {
      "text/plain": [
       "dummyData: List[Event] = List(Event(Some(1),Some(2),LinkedIn,eczachly.com,/signup,2023-01-01))\n"
      ]
     },
     "execution_count": 51,
     "metadata": {},
     "output_type": "execute_result"
    }
   ],
   "source": [
    "val dummyData = List(\n",
    "    Event(\n",
    "        user_id=Some(1),\n",
    "        device_id=Some(2),\n",
    "        referrer=\"LinkedIn\",\n",
    "        host=\"eczachly.com\",\n",
    "        url=\"/signup\",\n",
    "        event_time=\"2023-01-01\"\n",
    "    )\n",
    ")"
   ]
  },
  {
   "cell_type": "code",
   "execution_count": 10,
   "id": "5ec736e5-7b63-4a12-95d8-b3d549c7d6a2",
   "metadata": {},
   "outputs": [
    {
     "data": {
      "text/plain": [
       "defined class Device\n"
      ]
     },
     "execution_count": 10,
     "metadata": {},
     "output_type": "execute_result"
    }
   ],
   "source": [
    "case class Device (\n",
    "    device_id: Integer,\n",
    "    browser_type: String,\n",
    "    os_type: String,\n",
    "    device_type: String\n",
    ")"
   ]
  },
  {
   "cell_type": "code",
   "execution_count": 11,
   "id": "5ea9b987-dac2-478e-a80d-a8d0cff00339",
   "metadata": {},
   "outputs": [
    {
     "data": {
      "text/plain": [
       "defined class EventWithDevice\n"
      ]
     },
     "execution_count": 11,
     "metadata": {},
     "output_type": "execute_result"
    }
   ],
   "source": [
    "case class EventWithDevice (\n",
    "    user_id: Integer,\n",
    "    device_id: Integer,\n",
    "    browser_type: String,\n",
    "    os_type: String,\n",
    "    device_type: String,\n",
    "    referrer: String,\n",
    "    host: String,\n",
    "    url: String,\n",
    "    event_time: String\n",
    ")"
   ]
  },
  {
   "cell_type": "code",
   "execution_count": 54,
   "id": "4a2effdd-b9d6-43ec-8523-7ababe1b3694",
   "metadata": {},
   "outputs": [
    {
     "data": {
      "text/plain": [
       "import org.apache.spark.sql.Dataset\n",
       "import session.implicits._\n",
       "events: org.apache.spark.sql.Dataset[Event] = [user_id: int, device_id: int ... 4 more fields]\n",
       "devices: org.apache.spark.sql.Dataset[Device] = [device_id: int, browser_type: string ... 2 more fields]\n",
       "filteredViaDataset: org.apache.spark.sql.Dataset[Event] = [user_id: int, device_id: int ... 4 more fields]\n",
       "filteredViaDataFrame: org.apache.spark.sql.Dataset[org.apache.spark.sql.Row] = [user_id: int, device_id: int ... 4 more fields]\n",
       "filteredViaSparkSQL: org.apache.spark.sql.DataFrame = [user_id: int, device_id: int ... 4 more fields]\n"
      ]
     },
     "execution_count": 54,
     "metadata": {},
     "output_type": "execute_result"
    }
   ],
   "source": [
    "import org.apache.spark.sql.Dataset\n",
    "\n",
    "import session.implicits._\n",
    "\n",
    "// Applying this case class before hand is very powerful, enforces Nullability/non-nullability at runtime!\n",
    "val events: Dataset[Event] = session.read.option(\"header\", \"true\")\n",
    "                                                .option(\"inferSchema\", \"true\")\n",
    "                                                .csv(\"/home/iceberg/data/events.csv\")\n",
    "                                                .as[Event]\n",
    "\n",
    "val devices: Dataset[Device] = session.read.option(\"header\", \"true\")\n",
    "                                                    .option(\"inferSchema\", \"true\")\n",
    "                                                    .csv(\"/home/iceberg/data/devices.csv\")\n",
    "                                                    .as[Device]\n",
    "\n",
    "events.createOrReplaceTempView(\"events\")\n",
    "devices.createOrReplaceTempView(\"devices\")\n",
    "\n",
    "// For simple transformations, you can see that these approaches are very similar. Dataset is winning slightly because of the quality enforcement\n",
    "// Dataset\n",
    "val filteredViaDataset = events.filter(event => event.user_id.isDefined && event.device_id.isDefined)\n",
    "\n",
    "// DataFrame\n",
    "val filteredViaDataFrame = events.toDF().where($\"user_id\".isNotNull && $\"device_id\".isNotNull)\n",
    "\n",
    "// Spark SQL\n",
    "val filteredViaSparkSQL = session.sql(\"select * from events where user_id is not null and device_id is not null\")\n"
   ]
  },
  {
   "cell_type": "code",
   "execution_count": 55,
   "id": "25eac596-5e65-45b8-aaeb-9e219741c13e",
   "metadata": {},
   "outputs": [
    {
     "data": {
      "text/plain": [
       "combinedViaDataset: org.apache.spark.sql.Dataset[EventWithDevice] = [user_id: int, device_id: int ... 7 more fields]\n"
      ]
     },
     "execution_count": 55,
     "metadata": {},
     "output_type": "execute_result"
    }
   ],
   "source": [
    "val combinedViaDataset = filteredViaDataset\n",
    "                .joinWith(devices,\n",
    "                        events(\"device_id\") === devices(\"device_id\"),\n",
    "                        \"inner\")\n",
    "                .map {\n",
    "                    case (event: Event, device: Device) => EventWithDevice(\n",
    "                        user_id=event.user_id.get,\n",
    "                        device_id=device.device_id,\n",
    "                        browser_type=device.browser_type,\n",
    "                        os_type=device.os_type,\n",
    "                        device_type=device.device_type,\n",
    "                        referrer=event.referrer,\n",
    "                        host=event.host,\n",
    "                        url=event.url,\n",
    "                        event_time=event.event_time\n",
    "                    )\n",
    "                }\n",
    "                .map {\n",
    "                    eventWithDevice =>\n",
    "                        // Convert browser_type to uppercase while maintaining immutability\n",
    "                        eventWithDevice.copy(\n",
    "                            browser_type = eventWithDevice.browser_type.toUpperCase\n",
    "                        )\n",
    "                }"
   ]
  },
  {
   "cell_type": "code",
   "execution_count": 56,
   "id": "03376895-7da0-485e-a7d7-952d63e851a6",
   "metadata": {},
   "outputs": [
    {
     "data": {
      "text/plain": [
       "combinedViaDataFrame: org.apache.spark.sql.DataFrame = [user_id: int, device_id: int ... 7 more fields]\n"
      ]
     },
     "execution_count": 56,
     "metadata": {},
     "output_type": "execute_result"
    }
   ],
   "source": [
    "// DataFrames give up some of the intellisense because you no longer have static typing\n",
    "val combinedViaDataFrame = filteredViaDataFrame.as(\"e\")\n",
    "                            .join(devices.as(\"d\"),\n",
    "                                    $\"e.device_id\" === $\"d.device_id\",\n",
    "                                    \"inner\")\n",
    "                            .select(\n",
    "                                $\"e.user_id\",\n",
    "                                $\"d.device_id\",\n",
    "                                $\"d.browser_type\",\n",
    "                                $\"d.os_type\",\n",
    "                                $\"d.device_type\",\n",
    "                                $\"e.referrer\",\n",
    "                                $\"e.host\",\n",
    "                                $\"e.url\",\n",
    "                                $\"e.event_time\"\n",
    "                            )"
   ]
  },
  {
   "cell_type": "code",
   "execution_count": 57,
   "id": "ff138fbf-7946-4f92-a5a1-a514ede6df89",
   "metadata": {},
   "outputs": [
    {
     "data": {
      "text/plain": [
       "combinedViaSparkSQL: org.apache.spark.sql.DataFrame = [user_id: int, device_id: int ... 7 more fields]\n"
      ]
     },
     "execution_count": 57,
     "metadata": {},
     "output_type": "execute_result"
    }
   ],
   "source": [
    "//Creating temp views is a good strategy if you're leveraging SparkSQL\n",
    "filteredViaSparkSQL.createOrReplaceTempView(\"filtered_events\")\n",
    "val combinedViaSparkSQL = spark.sql(f\"\"\"\n",
    "    select \n",
    "        e.user_id,\n",
    "        d.device_id,\n",
    "        d.browser_type,\n",
    "        d.os_type,\n",
    "        d.device_type,\n",
    "        e.referrer,\n",
    "        e.host,\n",
    "        e.url,\n",
    "        e.event_time\n",
    "    from filtered_events e\n",
    "    join devices d\n",
    "    on e.device_id = d.device_id\n",
    "\"\"\")"
   ]
  },
  {
   "cell_type": "code",
   "execution_count": 49,
   "id": "7c176469-d0cd-4004-a1b9-f86e09cc882a",
   "metadata": {},
   "outputs": [
    {
     "name": "stdout",
     "output_type": "stream",
     "text": [
      "EventWithDevice(1037710827,532630305,OTHER,Other,Other,null,www.zachwilson.tech,/,2021-03-08 17:27:24.241)\n",
      "EventWithDevice(925588856,532630305,OTHER,Other,Other,null,www.eczachly.com,/,2021-05-10 11:26:21.247)\n",
      "EventWithDevice(-1180485268,532630305,OTHER,Other,Other,null,admin.zachwilson.tech,/,2021-02-17 16:19:30.738)\n",
      "EventWithDevice(-1044833855,532630305,OTHER,Other,Other,null,www.zachwilson.tech,/,2021-09-24 15:53:14.466)\n",
      "EventWithDevice(747494706,532630305,OTHER,Other,Other,null,www.zachwilson.tech,/,2021-09-26 16:03:17.535)\n",
      "+-----------+---------+------------+-------+-----------+--------+--------------------+---+--------------------+\n",
      "|    user_id|device_id|browser_type|os_type|device_type|referrer|                host|url|          event_time|\n",
      "+-----------+---------+------------+-------+-----------+--------+--------------------+---+--------------------+\n",
      "| 1037710827|532630305|       OTHER|  Other|      Other|    NULL| www.zachwilson.tech|  /|2021-03-08 17:27:...|\n",
      "|  925588856|532630305|       OTHER|  Other|      Other|    NULL|    www.eczachly.com|  /|2021-05-10 11:26:...|\n",
      "|-1180485268|532630305|       OTHER|  Other|      Other|    NULL|admin.zachwilson....|  /|2021-02-17 16:19:...|\n",
      "|-1044833855|532630305|       OTHER|  Other|      Other|    NULL| www.zachwilson.tech|  /|2021-09-24 15:53:...|\n",
      "|  747494706|532630305|       OTHER|  Other|      Other|    NULL| www.zachwilson.tech|  /|2021-09-26 16:03:...|\n",
      "+-----------+---------+------------+-------+-----------+--------+--------------------+---+--------------------+\n",
      "only showing top 5 rows\n",
      "\n",
      "+-----------+---------+------------+-------+-----------+--------+--------------------+---+--------------------+\n",
      "|    user_id|device_id|browser_type|os_type|device_type|referrer|                host|url|          event_time|\n",
      "+-----------+---------+------------+-------+-----------+--------+--------------------+---+--------------------+\n",
      "| 1037710827|532630305|       Other|  Other|      Other|    NULL| www.zachwilson.tech|  /|2021-03-08 17:27:...|\n",
      "|  925588856|532630305|       Other|  Other|      Other|    NULL|    www.eczachly.com|  /|2021-05-10 11:26:...|\n",
      "|-1180485268|532630305|       Other|  Other|      Other|    NULL|admin.zachwilson....|  /|2021-02-17 16:19:...|\n",
      "|-1044833855|532630305|       Other|  Other|      Other|    NULL| www.zachwilson.tech|  /|2021-09-24 15:53:...|\n",
      "|  747494706|532630305|       Other|  Other|      Other|    NULL| www.zachwilson.tech|  /|2021-09-26 16:03:...|\n",
      "+-----------+---------+------------+-------+-----------+--------+--------------------+---+--------------------+\n",
      "only showing top 5 rows\n",
      "\n",
      "+-----------+---------+------------+-------+-----------+--------+--------------------+---+--------------------+\n",
      "|    user_id|device_id|browser_type|os_type|device_type|referrer|                host|url|          event_time|\n",
      "+-----------+---------+------------+-------+-----------+--------+--------------------+---+--------------------+\n",
      "| 1037710827|532630305|       Other|  Other|      Other|    NULL| www.zachwilson.tech|  /|2021-03-08 17:27:...|\n",
      "|  925588856|532630305|       Other|  Other|      Other|    NULL|    www.eczachly.com|  /|2021-05-10 11:26:...|\n",
      "|-1180485268|532630305|       Other|  Other|      Other|    NULL|admin.zachwilson....|  /|2021-02-17 16:19:...|\n",
      "|-1044833855|532630305|       Other|  Other|      Other|    NULL| www.zachwilson.tech|  /|2021-09-24 15:53:...|\n",
      "|  747494706|532630305|       Other|  Other|      Other|    NULL| www.zachwilson.tech|  /|2021-09-26 16:03:...|\n",
      "+-----------+---------+------------+-------+-----------+--------+--------------------+---+--------------------+\n",
      "only showing top 5 rows\n",
      "\n"
     ]
    },
    {
     "data": {
      "text/plain": [
       "rows: Array[EventWithDevice] = Array(EventWithDevice(1037710827,532630305,OTHER,Other,Other,null,www.zachwilson.tech,/,2021-03-08 17:27:24.241), EventWithDevice(925588856,532630305,OTHER,Other,Other,null,www.eczachly.com,/,2021-05-10 11:26:21.247), EventWithDevice(-1180485268,532630305,OTHER,Other,Other,null,admin.zachwilson.tech,/,2021-02-17 16:19:30.738), EventWithDevice(-1044833855,532630305,OTHER,Other,Other,null,www.zachwilson.tech,/,2021-09-24 15:53:14.466), EventWithDevice(747494706,532630305,OTHER,Other,Other,null,www.zachwilson.tech,/,2021-09-26 16:03:17.535))\n"
      ]
     },
     "execution_count": 49,
     "metadata": {},
     "output_type": "execute_result"
    }
   ],
   "source": [
    "val rows = combinedViaDataset.take(5)\n",
    "rows.foreach(println)\n",
    "\n",
    "combinedViaDataset.show(5)\n",
    "\n",
    "combinedViaDataFrame.show(5)\n",
    "\n",
    "combinedViaSparkSQL.show(5)"
   ]
  },
  {
   "cell_type": "code",
   "execution_count": null,
   "id": "e6dfc422-c71c-4680-a43f-9389b0a3d451",
   "metadata": {},
   "outputs": [],
   "source": []
  }
 ],
 "metadata": {
  "kernelspec": {
   "display_name": "spylon-kernel",
   "language": "scala",
   "name": "spylon-kernel"
  },
  "language_info": {
   "codemirror_mode": "text/x-scala",
   "file_extension": ".scala",
   "help_links": [
    {
     "text": "MetaKernel Magics",
     "url": "https://metakernel.readthedocs.io/en/latest/source/README.html"
    }
   ],
   "mimetype": "text/x-scala",
   "name": "scala",
   "pygments_lexer": "scala",
   "version": "0.4.1"
  }
 },
 "nbformat": 4,
 "nbformat_minor": 5
}
